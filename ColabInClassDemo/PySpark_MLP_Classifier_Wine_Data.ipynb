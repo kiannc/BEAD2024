{
  "cells": [
    {
      "cell_type": "code",
      "source": [
        "# Install pyspark and findspark\n",
        "!pip install --ignore-install -q pyspark\n",
        "# Install findspark library\n",
        "!pip install --ignore-install -q findspark"
      ],
      "metadata": {
        "colab": {
          "base_uri": "https://localhost:8080/"
        },
        "id": "AaP6k856STgg",
        "outputId": "68102420-f822-46f3-c1a6-25f2b6f56564"
      },
      "id": "AaP6k856STgg",
      "execution_count": 1,
      "outputs": [
        {
          "output_type": "stream",
          "name": "stdout",
          "text": [
            "\u001b[2K     \u001b[90m━━━━━━━━━━━━━━━━━━━━━━━━━━━━━━━━━━━━━━━━\u001b[0m \u001b[32m316.9/316.9 MB\u001b[0m \u001b[31m2.6 MB/s\u001b[0m eta \u001b[36m0:00:00\u001b[0m\n",
            "\u001b[?25h  Preparing metadata (setup.py) ... \u001b[?25l\u001b[?25hdone\n",
            "\u001b[2K     \u001b[90m━━━━━━━━━━━━━━━━━━━━━━━━━━━━━━━━━━━━━━━━\u001b[0m \u001b[32m200.5/200.5 kB\u001b[0m \u001b[31m9.9 MB/s\u001b[0m eta \u001b[36m0:00:00\u001b[0m\n",
            "\u001b[?25h  Building wheel for pyspark (setup.py) ... \u001b[?25l\u001b[?25hdone\n"
          ]
        }
      ]
    },
    {
      "cell_type": "code",
      "source": [
        "# Import findspark\n",
        "import findspark\n",
        "findspark.init()"
      ],
      "metadata": {
        "id": "tuGrUrHkSTpH"
      },
      "id": "tuGrUrHkSTpH",
      "execution_count": 7,
      "outputs": []
    },
    {
      "cell_type": "code",
      "execution_count": 8,
      "id": "1ad0afd9",
      "metadata": {
        "id": "1ad0afd9"
      },
      "outputs": [],
      "source": [
        "from pyspark.sql import SparkSession\n",
        "\n",
        "spark = SparkSession \\\n",
        "    .builder \\\n",
        "    .appName(\"MLP_Classifier\") \\\n",
        "    .getOrCreate()"
      ]
    },
    {
      "cell_type": "code",
      "source": [
        "from google.colab import drive\n",
        "drive.mount('/content/drive', force_remount=True)"
      ],
      "metadata": {
        "colab": {
          "base_uri": "https://localhost:8080/"
        },
        "id": "lHZAlBjHTYdj",
        "outputId": "d5412628-b8d2-4086-d7cd-b04e0e8ac6ac"
      },
      "id": "lHZAlBjHTYdj",
      "execution_count": 11,
      "outputs": [
        {
          "output_type": "stream",
          "name": "stdout",
          "text": [
            "Mounted at /content/drive\n"
          ]
        }
      ]
    },
    {
      "cell_type": "code",
      "execution_count": 12,
      "id": "0f6cf16a",
      "metadata": {
        "colab": {
          "base_uri": "https://localhost:8080/"
        },
        "id": "0f6cf16a",
        "outputId": "bf521623-40e1-4a96-adfb-71fced3958f4"
      },
      "outputs": [
        {
          "output_type": "stream",
          "name": "stdout",
          "text": [
            "+-------------+----------------+-----------+--------------+---------+-------------------+--------------------+-------+----+---------+-------+-------+\n",
            "|fixed acidity|volatile acidity|citric acid|residual sugar|chlorides|free sulfur dioxide|total sulfur dioxide|density|  pH|sulphates|alcohol|quality|\n",
            "+-------------+----------------+-----------+--------------+---------+-------------------+--------------------+-------+----+---------+-------+-------+\n",
            "|          7.4|             0.7|        0.0|           1.9|    0.076|               11.0|                34.0| 0.9978|3.51|     0.56|    9.4|      5|\n",
            "|          7.8|            0.88|        0.0|           2.6|    0.098|               25.0|                67.0| 0.9968| 3.2|     0.68|    9.8|      5|\n",
            "|          7.8|            0.76|       0.04|           2.3|    0.092|               15.0|                54.0|  0.997|3.26|     0.65|    9.8|      5|\n",
            "|         11.2|            0.28|       0.56|           1.9|    0.075|               17.0|                60.0|  0.998|3.16|     0.58|    9.8|      6|\n",
            "|          7.4|             0.7|        0.0|           1.9|    0.076|               11.0|                34.0| 0.9978|3.51|     0.56|    9.4|      5|\n",
            "+-------------+----------------+-----------+--------------+---------+-------------------+--------------------+-------+----+---------+-------+-------+\n",
            "only showing top 5 rows\n",
            "\n"
          ]
        }
      ],
      "source": [
        "from pyspark.ml.classification import MultilayerPerceptronClassifier\n",
        "from pyspark.ml.evaluation import MulticlassClassificationEvaluator\n",
        "\n",
        "# Load training data\n",
        "df = spark.read.format('com.databricks.spark.csv').\\\n",
        "                               options(header='true', \\\n",
        "                               inferschema='true').load(\"/content/drive/MyDrive/WineData.csv\",header=True);\n",
        "df.show(5)"
      ]
    },
    {
      "cell_type": "code",
      "execution_count": 13,
      "id": "1ca369d2",
      "metadata": {
        "scrolled": true,
        "colab": {
          "base_uri": "https://localhost:8080/"
        },
        "id": "1ca369d2",
        "outputId": "ae70a145-5702-4e92-a62c-c2bb89227f5a"
      },
      "outputs": [
        {
          "output_type": "stream",
          "name": "stdout",
          "text": [
            "root\n",
            " |-- fixed acidity: double (nullable = true)\n",
            " |-- volatile acidity: double (nullable = true)\n",
            " |-- citric acid: double (nullable = true)\n",
            " |-- residual sugar: double (nullable = true)\n",
            " |-- chlorides: double (nullable = true)\n",
            " |-- free sulfur dioxide: double (nullable = true)\n",
            " |-- total sulfur dioxide: double (nullable = true)\n",
            " |-- density: double (nullable = true)\n",
            " |-- pH: double (nullable = true)\n",
            " |-- sulphates: double (nullable = true)\n",
            " |-- alcohol: double (nullable = true)\n",
            " |-- quality: integer (nullable = true)\n",
            "\n"
          ]
        }
      ],
      "source": [
        "df.printSchema()"
      ]
    },
    {
      "cell_type": "code",
      "execution_count": 14,
      "id": "c3022c7d",
      "metadata": {
        "colab": {
          "base_uri": "https://localhost:8080/"
        },
        "id": "c3022c7d",
        "outputId": "0893d56c-dfbf-4400-a6f9-cf7b9c557bdc"
      },
      "outputs": [
        {
          "output_type": "execute_result",
          "data": {
            "text/plain": [
              "[Row(quality=6),\n",
              " Row(quality=3),\n",
              " Row(quality=5),\n",
              " Row(quality=4),\n",
              " Row(quality=8),\n",
              " Row(quality=7)]"
            ]
          },
          "metadata": {},
          "execution_count": 14
        }
      ],
      "source": [
        "df.select('quality').distinct().collect()"
      ]
    },
    {
      "cell_type": "code",
      "execution_count": 15,
      "id": "2c20227a",
      "metadata": {
        "id": "2c20227a"
      },
      "outputs": [],
      "source": [
        "# Convert to float format\n",
        "def string_to_float(x):\n",
        "    return float(x)\n",
        "\n",
        "#\n",
        "def condition(r):\n",
        "    if (0<= r <= 4):\n",
        "        label = \"low\"\n",
        "    elif(4< r <= 6):\n",
        "        label = \"medium\"\n",
        "    else:\n",
        "        label = \"high\"\n",
        "    return label"
      ]
    },
    {
      "cell_type": "code",
      "execution_count": 16,
      "id": "d4ba06c4",
      "metadata": {
        "id": "d4ba06c4"
      },
      "outputs": [],
      "source": [
        "from pyspark.sql.functions import udf\n",
        "from pyspark.sql.types import StringType, DoubleType\n",
        "string_to_float_udf = udf(string_to_float, DoubleType())\n",
        "quality_udf = udf(lambda x: condition(x), StringType())"
      ]
    },
    {
      "cell_type": "code",
      "execution_count": 17,
      "id": "ada0aeb3",
      "metadata": {
        "colab": {
          "base_uri": "https://localhost:8080/"
        },
        "id": "ada0aeb3",
        "outputId": "bff24c33-9cd7-4abe-8fc4-f01097c52065"
      },
      "outputs": [
        {
          "output_type": "stream",
          "name": "stdout",
          "text": [
            "root\n",
            " |-- fixed acidity: double (nullable = true)\n",
            " |-- volatile acidity: double (nullable = true)\n",
            " |-- citric acid: double (nullable = true)\n",
            " |-- residual sugar: double (nullable = true)\n",
            " |-- chlorides: double (nullable = true)\n",
            " |-- free sulfur dioxide: double (nullable = true)\n",
            " |-- total sulfur dioxide: double (nullable = true)\n",
            " |-- density: double (nullable = true)\n",
            " |-- pH: double (nullable = true)\n",
            " |-- sulphates: double (nullable = true)\n",
            " |-- alcohol: double (nullable = true)\n",
            " |-- quality: integer (nullable = true)\n",
            "\n"
          ]
        }
      ],
      "source": [
        "df.printSchema()"
      ]
    },
    {
      "cell_type": "code",
      "execution_count": 18,
      "id": "37c277cf",
      "metadata": {
        "scrolled": true,
        "colab": {
          "base_uri": "https://localhost:8080/"
        },
        "id": "37c277cf",
        "outputId": "0fd376e5-5760-4417-ed1f-1094ad82d44c"
      },
      "outputs": [
        {
          "output_type": "stream",
          "name": "stdout",
          "text": [
            "+-------------+----------------+-----------+--------------+---------+-------------------+--------------------+-------+----+---------+-------+-------+\n",
            "|fixed acidity|volatile acidity|citric acid|residual sugar|chlorides|free sulfur dioxide|total sulfur dioxide|density|  pH|sulphates|alcohol|quality|\n",
            "+-------------+----------------+-----------+--------------+---------+-------------------+--------------------+-------+----+---------+-------+-------+\n",
            "|          7.4|             0.7|        0.0|           1.9|    0.076|               11.0|                34.0| 0.9978|3.51|     0.56|    9.4|      5|\n",
            "|          7.8|            0.88|        0.0|           2.6|    0.098|               25.0|                67.0| 0.9968| 3.2|     0.68|    9.8|      5|\n",
            "|          7.8|            0.76|       0.04|           2.3|    0.092|               15.0|                54.0|  0.997|3.26|     0.65|    9.8|      5|\n",
            "|         11.2|            0.28|       0.56|           1.9|    0.075|               17.0|                60.0|  0.998|3.16|     0.58|    9.8|      6|\n",
            "|          7.4|             0.7|        0.0|           1.9|    0.076|               11.0|                34.0| 0.9978|3.51|     0.56|    9.4|      5|\n",
            "|          7.4|            0.66|        0.0|           1.8|    0.075|               13.0|                40.0| 0.9978|3.51|     0.56|    9.4|      5|\n",
            "|          7.9|             0.6|       0.06|           1.6|    0.069|               15.0|                59.0| 0.9964| 3.3|     0.46|    9.4|      5|\n",
            "|          7.3|            0.65|        0.0|           1.2|    0.065|               15.0|                21.0| 0.9946|3.39|     0.47|   10.0|      7|\n",
            "|          7.8|            0.58|       0.02|           2.0|    0.073|                9.0|                18.0| 0.9968|3.36|     0.57|    9.5|      7|\n",
            "|          7.5|             0.5|       0.36|           6.1|    0.071|               17.0|               102.0| 0.9978|3.35|      0.8|   10.5|      5|\n",
            "|          6.7|            0.58|       0.08|           1.8|    0.097|               15.0|                65.0| 0.9959|3.28|     0.54|    9.2|      5|\n",
            "|          7.5|             0.5|       0.36|           6.1|    0.071|               17.0|               102.0| 0.9978|3.35|      0.8|   10.5|      5|\n",
            "|          5.6|           0.615|        0.0|           1.6|    0.089|               16.0|                59.0| 0.9943|3.58|     0.52|    9.9|      5|\n",
            "|          7.8|            0.61|       0.29|           1.6|    0.114|                9.0|                29.0| 0.9974|3.26|     1.56|    9.1|      5|\n",
            "|          8.9|            0.62|       0.18|           3.8|    0.176|               52.0|               145.0| 0.9986|3.16|     0.88|    9.2|      5|\n",
            "|          8.9|            0.62|       0.19|           3.9|     0.17|               51.0|               148.0| 0.9986|3.17|     0.93|    9.2|      5|\n",
            "|          8.5|            0.28|       0.56|           1.8|    0.092|               35.0|               103.0| 0.9969| 3.3|     0.75|   10.5|      7|\n",
            "|          8.1|            0.56|       0.28|           1.7|    0.368|               16.0|                56.0| 0.9968|3.11|     1.28|    9.3|      5|\n",
            "|          7.4|            0.59|       0.08|           4.4|    0.086|                6.0|                29.0| 0.9974|3.38|      0.5|    9.0|      4|\n",
            "|          7.9|            0.32|       0.51|           1.8|    0.341|               17.0|                56.0| 0.9969|3.04|     1.08|    9.2|      6|\n",
            "+-------------+----------------+-----------+--------------+---------+-------------------+--------------------+-------+----+---------+-------+-------+\n",
            "only showing top 20 rows\n",
            "\n"
          ]
        }
      ],
      "source": [
        "df.show()"
      ]
    },
    {
      "cell_type": "code",
      "execution_count": 19,
      "id": "91c9ed21",
      "metadata": {
        "id": "91c9ed21"
      },
      "outputs": [],
      "source": [
        "# convert the data to dense vector\n",
        "def transData(data):\n",
        "    return data.rdd.map(lambda r: [r[-1], Vectors.dense(r[:-1])]).toDF(['label','features'])"
      ]
    },
    {
      "cell_type": "code",
      "execution_count": 20,
      "id": "157cfa85",
      "metadata": {
        "colab": {
          "base_uri": "https://localhost:8080/"
        },
        "id": "157cfa85",
        "outputId": "af0fc45b-4776-45d2-f4c8-1dac7adbe004"
      },
      "outputs": [
        {
          "output_type": "stream",
          "name": "stdout",
          "text": [
            "+-----+--------------------+\n",
            "|label|            features|\n",
            "+-----+--------------------+\n",
            "|    5|[7.4,0.7,0.0,1.9,...|\n",
            "|    5|[7.8,0.88,0.0,2.6...|\n",
            "|    5|[7.8,0.76,0.04,2....|\n",
            "|    6|[11.2,0.28,0.56,1...|\n",
            "|    5|[7.4,0.7,0.0,1.9,...|\n",
            "|    5|[7.4,0.66,0.0,1.8...|\n",
            "|    5|[7.9,0.6,0.06,1.6...|\n",
            "|    7|[7.3,0.65,0.0,1.2...|\n",
            "|    7|[7.8,0.58,0.02,2....|\n",
            "|    5|[7.5,0.5,0.36,6.1...|\n",
            "|    5|[6.7,0.58,0.08,1....|\n",
            "|    5|[7.5,0.5,0.36,6.1...|\n",
            "|    5|[5.6,0.615,0.0,1....|\n",
            "|    5|[7.8,0.61,0.29,1....|\n",
            "|    5|[8.9,0.62,0.18,3....|\n",
            "|    5|[8.9,0.62,0.19,3....|\n",
            "|    7|[8.5,0.28,0.56,1....|\n",
            "|    5|[8.1,0.56,0.28,1....|\n",
            "|    4|[7.4,0.59,0.08,4....|\n",
            "|    6|[7.9,0.32,0.51,1....|\n",
            "+-----+--------------------+\n",
            "only showing top 20 rows\n",
            "\n"
          ]
        }
      ],
      "source": [
        "from pyspark.sql import Row\n",
        "from pyspark.ml.linalg import Vectors\n",
        "\n",
        "data= transData(df)\n",
        "data.show()"
      ]
    },
    {
      "cell_type": "code",
      "execution_count": 21,
      "id": "42acdf58",
      "metadata": {
        "colab": {
          "base_uri": "https://localhost:8080/"
        },
        "id": "42acdf58",
        "outputId": "8eb32dbc-454c-4379-a6c3-4362a3970b82"
      },
      "outputs": [
        {
          "output_type": "stream",
          "name": "stdout",
          "text": [
            "+-----+--------------------+------------+\n",
            "|label|            features|indexedLabel|\n",
            "+-----+--------------------+------------+\n",
            "|    5|[7.4,0.7,0.0,1.9,...|         0.0|\n",
            "|    5|[7.8,0.88,0.0,2.6...|         0.0|\n",
            "|    5|[7.8,0.76,0.04,2....|         0.0|\n",
            "|    6|[11.2,0.28,0.56,1...|         1.0|\n",
            "|    5|[7.4,0.7,0.0,1.9,...|         0.0|\n",
            "|    5|[7.4,0.66,0.0,1.8...|         0.0|\n",
            "+-----+--------------------+------------+\n",
            "only showing top 6 rows\n",
            "\n"
          ]
        }
      ],
      "source": [
        "from pyspark.ml.feature import IndexToString, StringIndexer, VectorIndexer\n",
        "# Index labels, adding metadata to the label column.\n",
        "# Fit on whole dataset to include all labels in index.\n",
        "labelIndexer = StringIndexer(inputCol=\"label\", outputCol=\"indexedLabel\").fit(data)\n",
        "labelIndexer.transform(data).show(6)"
      ]
    },
    {
      "cell_type": "code",
      "execution_count": 22,
      "id": "750232c1",
      "metadata": {
        "colab": {
          "base_uri": "https://localhost:8080/"
        },
        "id": "750232c1",
        "outputId": "b291e80e-1e5f-415b-9ff1-2181c092167e"
      },
      "outputs": [
        {
          "output_type": "stream",
          "name": "stdout",
          "text": [
            "+-----+--------------------+--------------------+\n",
            "|label|            features|     indexedFeatures|\n",
            "+-----+--------------------+--------------------+\n",
            "|    5|[7.4,0.7,0.0,1.9,...|[7.4,0.7,0.0,1.9,...|\n",
            "|    5|[7.8,0.88,0.0,2.6...|[7.8,0.88,0.0,2.6...|\n",
            "|    5|[7.8,0.76,0.04,2....|[7.8,0.76,0.04,2....|\n",
            "|    6|[11.2,0.28,0.56,1...|[11.2,0.28,0.56,1...|\n",
            "|    5|[7.4,0.7,0.0,1.9,...|[7.4,0.7,0.0,1.9,...|\n",
            "|    5|[7.4,0.66,0.0,1.8...|[7.4,0.66,0.0,1.8...|\n",
            "+-----+--------------------+--------------------+\n",
            "only showing top 6 rows\n",
            "\n"
          ]
        }
      ],
      "source": [
        "# Automatically identify categorical features, and index them.\n",
        "# Set maxCategories so features with > 4 distinct values are treated as continuous.\n",
        "featureIndexer =VectorIndexer(inputCol=\"features\", \\\n",
        "                              outputCol=\"indexedFeatures\", \\\n",
        "                              maxCategories=4).fit(data)\n",
        "\n",
        "featureIndexer.transform(data).show(6)"
      ]
    },
    {
      "cell_type": "code",
      "execution_count": 23,
      "id": "036206d4",
      "metadata": {
        "colab": {
          "base_uri": "https://localhost:8080/"
        },
        "id": "036206d4",
        "outputId": "859f9d0d-75c0-49a6-dba5-e088922af2b5"
      },
      "outputs": [
        {
          "output_type": "stream",
          "name": "stdout",
          "text": [
            "root\n",
            " |-- label: long (nullable = true)\n",
            " |-- features: vector (nullable = true)\n",
            "\n"
          ]
        }
      ],
      "source": [
        "data.printSchema()"
      ]
    },
    {
      "cell_type": "code",
      "execution_count": 24,
      "id": "a308bb32",
      "metadata": {
        "id": "a308bb32"
      },
      "outputs": [],
      "source": [
        "# Split the data into train and test\n",
        "(trainingData, testData) = data.randomSplit([0.6, 0.4],seed=218)"
      ]
    },
    {
      "cell_type": "code",
      "execution_count": 25,
      "id": "3f5b465c",
      "metadata": {
        "colab": {
          "base_uri": "https://localhost:8080/"
        },
        "id": "3f5b465c",
        "outputId": "798d7082-2434-443e-d260-ccce6b0c0ba3"
      },
      "outputs": [
        {
          "output_type": "execute_result",
          "data": {
            "text/plain": [
              "[Row(label=7),\n",
              " Row(label=6),\n",
              " Row(label=5),\n",
              " Row(label=3),\n",
              " Row(label=8),\n",
              " Row(label=4)]"
            ]
          },
          "metadata": {},
          "execution_count": 25
        }
      ],
      "source": [
        "data.select('label').distinct().collect()"
      ]
    },
    {
      "cell_type": "code",
      "execution_count": 26,
      "id": "b2ca38b9",
      "metadata": {
        "id": "b2ca38b9"
      },
      "outputs": [],
      "source": [
        "# specify layers for the neural network:\n",
        "# input layer of size 11 (features), two intermediate of size 5 and 4\n",
        "# and output of size  (classes)\n",
        "layers = [11, 5, 4, 4, 3 , 6]\n",
        "\n",
        "# create the trainer and set its parameters\n",
        "FNN = MultilayerPerceptronClassifier(labelCol=\"indexedLabel\", featuresCol=\"indexedFeatures\",\\\n",
        "                                         maxIter=100, layers=layers, blockSize=128, seed=1234)"
      ]
    },
    {
      "cell_type": "code",
      "execution_count": 27,
      "id": "a347aa3d",
      "metadata": {
        "id": "a347aa3d"
      },
      "outputs": [],
      "source": [
        "# Convert indexed labels back to original labels.\n",
        "labelConverter = IndexToString(inputCol=\"prediction\", outputCol=\"predictedLabel\",\n",
        "                               labels=labelIndexer.labels)"
      ]
    },
    {
      "cell_type": "code",
      "execution_count": 28,
      "id": "92f4cffc",
      "metadata": {
        "id": "92f4cffc"
      },
      "outputs": [],
      "source": [
        "# Chain indexers and forest in a Pipeline\n",
        "from pyspark.ml import Pipeline\n",
        "pipeline = Pipeline(stages=[labelIndexer, featureIndexer, FNN, labelConverter])"
      ]
    },
    {
      "cell_type": "code",
      "execution_count": 29,
      "id": "17670e8f",
      "metadata": {
        "id": "17670e8f"
      },
      "outputs": [],
      "source": [
        "# train the model\n",
        "# Train model.  This also runs the indexers.\n",
        "model = pipeline.fit(trainingData)"
      ]
    },
    {
      "cell_type": "code",
      "execution_count": 30,
      "id": "06a0bac2",
      "metadata": {
        "id": "06a0bac2"
      },
      "outputs": [],
      "source": [
        "# Make predictions.\n",
        "predictions = model.transform(testData)"
      ]
    },
    {
      "cell_type": "code",
      "execution_count": 31,
      "id": "53e8a891",
      "metadata": {
        "scrolled": true,
        "colab": {
          "base_uri": "https://localhost:8080/"
        },
        "id": "53e8a891",
        "outputId": "3459f4a5-f378-440b-9efe-0ec0511fc71e"
      },
      "outputs": [
        {
          "output_type": "stream",
          "name": "stdout",
          "text": [
            "+--------------------+-----+--------------+\n",
            "|            features|label|predictedLabel|\n",
            "+--------------------+-----+--------------+\n",
            "|[6.8,0.815,0.0,1....|    3|             5|\n",
            "|[7.1,0.875,0.05,5...|    3|             5|\n",
            "|[7.6,1.58,0.0,2.1...|    3|             5|\n",
            "|[8.3,1.02,0.02,3....|    3|             5|\n",
            "|[10.4,0.61,0.49,2...|    3|             5|\n",
            "+--------------------+-----+--------------+\n",
            "only showing top 5 rows\n",
            "\n"
          ]
        }
      ],
      "source": [
        "# Select example rows to display.\n",
        "predictions.select(\"features\",\"label\",\"predictedLabel\").show(5)"
      ]
    },
    {
      "cell_type": "code",
      "execution_count": 32,
      "id": "2aeba8ef",
      "metadata": {
        "colab": {
          "base_uri": "https://localhost:8080/"
        },
        "id": "2aeba8ef",
        "outputId": "e6fb061e-3aa5-414c-830b-f79e3dc26b6e"
      },
      "outputs": [
        {
          "output_type": "stream",
          "name": "stdout",
          "text": [
            "Predictions accuracy = 0.574018, Test Error = 0.425982\n"
          ]
        }
      ],
      "source": [
        "# Select (prediction, true label) and compute test error\n",
        "evaluator = MulticlassClassificationEvaluator(\n",
        "    labelCol=\"indexedLabel\", predictionCol=\"prediction\", metricName=\"accuracy\")\n",
        "accuracy = evaluator.evaluate(predictions)\n",
        "print(\"Predictions accuracy = %g, Test Error = %g\" % (accuracy,(1.0 - accuracy)))"
      ]
    },
    {
      "cell_type": "code",
      "execution_count": 33,
      "id": "b0f983aa",
      "metadata": {
        "id": "b0f983aa"
      },
      "outputs": [],
      "source": [
        "from pyspark.mllib.evaluation import MulticlassMetrics\n",
        "import sklearn\n",
        "import numpy as np"
      ]
    },
    {
      "cell_type": "code",
      "execution_count": 34,
      "id": "d1b4ea26",
      "metadata": {
        "colab": {
          "base_uri": "https://localhost:8080/"
        },
        "id": "d1b4ea26",
        "outputId": "d51fdafe-2fb5-4f0f-9fcc-8b7c8cc27c5b"
      },
      "outputs": [
        {
          "output_type": "stream",
          "name": "stdout",
          "text": [
            "+-----+\n",
            "|label|\n",
            "+-----+\n",
            "|    3|\n",
            "|    3|\n",
            "|    3|\n",
            "|    3|\n",
            "|    3|\n",
            "+-----+\n",
            "only showing top 5 rows\n",
            "\n",
            "+--------------+\n",
            "|predictedLabel|\n",
            "+--------------+\n",
            "|             5|\n",
            "|             5|\n",
            "|             5|\n",
            "|             5|\n",
            "|             5|\n",
            "+--------------+\n",
            "only showing top 5 rows\n",
            "\n"
          ]
        }
      ],
      "source": [
        "y_true = predictions.select(\"label\")\n",
        "y_true.show(5)\n",
        "y_pred = predictions.select(\"predictedLabel\")\n",
        "y_pred.show(5)\n",
        "y_true_array = np.array(y_true.collect())\n",
        "y_pred_array = np.array(y_pred.collect())\n"
      ]
    },
    {
      "cell_type": "code",
      "execution_count": 35,
      "id": "0ed4aa6e",
      "metadata": {
        "colab": {
          "base_uri": "https://localhost:8080/"
        },
        "id": "0ed4aa6e",
        "outputId": "95438c86-0434-4400-845b-242df4eb8a5c"
      },
      "outputs": [
        {
          "output_type": "execute_result",
          "data": {
            "text/plain": [
              "dtype('int64')"
            ]
          },
          "metadata": {},
          "execution_count": 35
        }
      ],
      "source": [
        "y_true_array.dtype\n"
      ]
    },
    {
      "cell_type": "code",
      "execution_count": 36,
      "id": "4fe99a7e",
      "metadata": {
        "scrolled": false,
        "colab": {
          "base_uri": "https://localhost:8080/"
        },
        "id": "4fe99a7e",
        "outputId": "a781862b-5b32-404b-dd89-f0d6592555e1"
      },
      "outputs": [
        {
          "output_type": "execute_result",
          "data": {
            "text/plain": [
              "dtype('<U1')"
            ]
          },
          "metadata": {},
          "execution_count": 36
        }
      ],
      "source": [
        "y_pred_array.dtype"
      ]
    },
    {
      "cell_type": "code",
      "execution_count": 37,
      "id": "d65294ff",
      "metadata": {
        "id": "d65294ff"
      },
      "outputs": [],
      "source": [
        "y_pred_array = [int(i) for i in y_pred_array]"
      ]
    },
    {
      "cell_type": "code",
      "execution_count": 38,
      "id": "9edc5623",
      "metadata": {
        "colab": {
          "base_uri": "https://localhost:8080/"
        },
        "id": "9edc5623",
        "outputId": "662bf234-f349-40f0-d8b5-36f46820c6e9"
      },
      "outputs": [
        {
          "output_type": "stream",
          "name": "stdout",
          "text": [
            "              precision    recall  f1-score   support\n",
            "\n",
            "           3       0.00      0.00      0.00         5\n",
            "           4       0.00      0.00      0.00        21\n",
            "           5       0.66      0.74      0.70       290\n",
            "           6       0.54      0.48      0.51       253\n",
            "           7       0.39      0.51      0.44        85\n",
            "           8       0.00      0.00      0.00         8\n",
            "\n",
            "    accuracy                           0.57       662\n",
            "   macro avg       0.26      0.29      0.27       662\n",
            "weighted avg       0.55      0.57      0.56       662\n",
            "\n"
          ]
        },
        {
          "output_type": "stream",
          "name": "stderr",
          "text": [
            "/usr/local/lib/python3.10/dist-packages/sklearn/metrics/_classification.py:1344: UndefinedMetricWarning: Precision and F-score are ill-defined and being set to 0.0 in labels with no predicted samples. Use `zero_division` parameter to control this behavior.\n",
            "  _warn_prf(average, modifier, msg_start, len(result))\n",
            "/usr/local/lib/python3.10/dist-packages/sklearn/metrics/_classification.py:1344: UndefinedMetricWarning: Precision and F-score are ill-defined and being set to 0.0 in labels with no predicted samples. Use `zero_division` parameter to control this behavior.\n",
            "  _warn_prf(average, modifier, msg_start, len(result))\n",
            "/usr/local/lib/python3.10/dist-packages/sklearn/metrics/_classification.py:1344: UndefinedMetricWarning: Precision and F-score are ill-defined and being set to 0.0 in labels with no predicted samples. Use `zero_division` parameter to control this behavior.\n",
            "  _warn_prf(average, modifier, msg_start, len(result))\n"
          ]
        }
      ],
      "source": [
        "from sklearn.metrics import classification_report, confusion_matrix\n",
        "print(classification_report(y_true_array, y_pred_array))"
      ]
    },
    {
      "cell_type": "code",
      "execution_count": 39,
      "id": "10ec2f5e",
      "metadata": {
        "id": "10ec2f5e"
      },
      "outputs": [],
      "source": [
        "spark.stop()"
      ]
    }
  ],
  "metadata": {
    "kernelspec": {
      "display_name": "Python 3 (ipykernel)",
      "language": "python",
      "name": "python3"
    },
    "language_info": {
      "codemirror_mode": {
        "name": "ipython",
        "version": 3
      },
      "file_extension": ".py",
      "mimetype": "text/x-python",
      "name": "python",
      "nbconvert_exporter": "python",
      "pygments_lexer": "ipython3",
      "version": "3.9.17"
    },
    "colab": {
      "provenance": []
    }
  },
  "nbformat": 4,
  "nbformat_minor": 5
}