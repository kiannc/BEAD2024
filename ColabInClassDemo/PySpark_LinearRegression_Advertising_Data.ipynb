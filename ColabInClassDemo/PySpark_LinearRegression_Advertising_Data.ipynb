{
  "cells": [
    {
      "cell_type": "code",
      "source": [
        "# Install pyspark and findspark\n",
        "!pip install --ignore-install -q pyspark\n",
        "# Install findspark library\n",
        "!pip install --ignore-install -q findspark"
      ],
      "metadata": {
        "colab": {
          "base_uri": "https://localhost:8080/"
        },
        "id": "60ycsNZVzRH1",
        "outputId": "ce5ca6b4-7f87-403f-cc8d-ff375ebc3bed"
      },
      "id": "60ycsNZVzRH1",
      "execution_count": 1,
      "outputs": [
        {
          "output_type": "stream",
          "name": "stdout",
          "text": [
            "\u001b[2K     \u001b[90m━━━━━━━━━━━━━━━━━━━━━━━━━━━━━━━━━━━━━━━━\u001b[0m \u001b[32m316.9/316.9 MB\u001b[0m \u001b[31m2.1 MB/s\u001b[0m eta \u001b[36m0:00:00\u001b[0m\n",
            "\u001b[?25h  Preparing metadata (setup.py) ... \u001b[?25l\u001b[?25hdone\n",
            "\u001b[2K     \u001b[90m━━━━━━━━━━━━━━━━━━━━━━━━━━━━━━━━━━━━━━━━\u001b[0m \u001b[32m200.5/200.5 kB\u001b[0m \u001b[31m13.5 MB/s\u001b[0m eta \u001b[36m0:00:00\u001b[0m\n",
            "\u001b[?25h  Building wheel for pyspark (setup.py) ... \u001b[?25l\u001b[?25hdone\n"
          ]
        }
      ]
    },
    {
      "cell_type": "code",
      "source": [
        "# Import findspark\n",
        "import findspark\n",
        "findspark.init()"
      ],
      "metadata": {
        "id": "WWlsXfPIzUek"
      },
      "id": "WWlsXfPIzUek",
      "execution_count": 2,
      "outputs": []
    },
    {
      "cell_type": "code",
      "source": [
        "from google.colab import drive\n",
        "drive.mount('/content/drive', force_remount=True)"
      ],
      "metadata": {
        "colab": {
          "base_uri": "https://localhost:8080/"
        },
        "id": "fGChbao_zUg7",
        "outputId": "7ee24dfc-c621-4bda-cb50-267ef7cf9394"
      },
      "id": "fGChbao_zUg7",
      "execution_count": 3,
      "outputs": [
        {
          "output_type": "stream",
          "name": "stdout",
          "text": [
            "Mounted at /content/drive\n"
          ]
        }
      ]
    },
    {
      "cell_type": "code",
      "execution_count": 4,
      "id": "ea55d5cf",
      "metadata": {
        "colab": {
          "base_uri": "https://localhost:8080/"
        },
        "id": "ea55d5cf",
        "outputId": "9be6c998-19c6-4ee2-9173-aed4ff889046"
      },
      "outputs": [
        {
          "output_type": "execute_result",
          "data": {
            "text/plain": [
              "sys.version_info(major=3, minor=10, micro=12, releaselevel='final', serial=0)"
            ]
          },
          "metadata": {},
          "execution_count": 4
        }
      ],
      "source": [
        "import sys\n",
        "sys.version_info"
      ]
    },
    {
      "cell_type": "code",
      "execution_count": 5,
      "id": "34d360d0",
      "metadata": {
        "colab": {
          "base_uri": "https://localhost:8080/"
        },
        "id": "34d360d0",
        "outputId": "93ce6e62-db9e-4e26-b6f6-bfa840eac58f"
      },
      "outputs": [
        {
          "output_type": "stream",
          "name": "stdout",
          "text": [
            "3.10.12 (main, Nov 20 2023, 15:14:05) [GCC 11.4.0]\n"
          ]
        }
      ],
      "source": [
        "print(sys.version)"
      ]
    },
    {
      "cell_type": "markdown",
      "id": "36fb5803",
      "metadata": {
        "id": "36fb5803"
      },
      "source": [
        "### 1. Set up spark context and SparkSession"
      ]
    },
    {
      "cell_type": "code",
      "execution_count": 6,
      "id": "882aa768",
      "metadata": {
        "id": "882aa768"
      },
      "outputs": [],
      "source": [
        "from pyspark.sql import SparkSession\n",
        "\n",
        "spark = SparkSession \\\n",
        "    .builder \\\n",
        "    .appName(\"PySpark-LinearRegression_Advertising\") \\\n",
        "    .getOrCreate()"
      ]
    },
    {
      "cell_type": "markdown",
      "id": "9c4e9ac1",
      "metadata": {
        "id": "9c4e9ac1"
      },
      "source": [
        "### 2.  Load data set"
      ]
    },
    {
      "cell_type": "code",
      "execution_count": 9,
      "id": "ef85f0d0",
      "metadata": {
        "id": "ef85f0d0"
      },
      "outputs": [],
      "source": [
        "df = spark.read.format('com.databricks.spark.csv').\\\n",
        "                               options(header='true', \\\n",
        "                               inferschema='true').load(\"/content/drive/MyDrive/Advertising.csv\",header=True);"
      ]
    },
    {
      "cell_type": "code",
      "execution_count": 10,
      "id": "a995b7a0",
      "metadata": {
        "scrolled": true,
        "colab": {
          "base_uri": "https://localhost:8080/"
        },
        "id": "a995b7a0",
        "outputId": "69b18c93-8f1b-45f0-bce5-62370a8070b6"
      },
      "outputs": [
        {
          "output_type": "stream",
          "name": "stdout",
          "text": [
            "+-----+-----+---------+-----+\n",
            "|   TV|Radio|Newspaper|Sales|\n",
            "+-----+-----+---------+-----+\n",
            "|230.1| 37.8|     69.2| 22.1|\n",
            "| 44.5| 39.3|     45.1| 10.4|\n",
            "| 17.2| 45.9|     69.3|  9.3|\n",
            "|151.5| 41.3|     58.5| 18.5|\n",
            "|180.8| 10.8|     58.4| 12.9|\n",
            "|  8.7| 48.9|     75.0|  7.2|\n",
            "+-----+-----+---------+-----+\n",
            "only showing top 6 rows\n",
            "\n"
          ]
        }
      ],
      "source": [
        "df.show(6)"
      ]
    },
    {
      "cell_type": "code",
      "execution_count": 11,
      "id": "b00c3a32",
      "metadata": {
        "colab": {
          "base_uri": "https://localhost:8080/"
        },
        "id": "b00c3a32",
        "outputId": "83c20d28-4477-4d51-9eed-ab72da6cfe5d"
      },
      "outputs": [
        {
          "output_type": "stream",
          "name": "stdout",
          "text": [
            "root\n",
            " |-- TV: double (nullable = true)\n",
            " |-- Radio: double (nullable = true)\n",
            " |-- Newspaper: double (nullable = true)\n",
            " |-- Sales: double (nullable = true)\n",
            "\n"
          ]
        }
      ],
      "source": [
        "df.printSchema()"
      ]
    },
    {
      "cell_type": "markdown",
      "id": "8a032019",
      "metadata": {
        "id": "8a032019"
      },
      "source": [
        "### 3. Convert data into feature"
      ]
    },
    {
      "cell_type": "code",
      "execution_count": 12,
      "id": "42032fcf",
      "metadata": {
        "id": "42032fcf"
      },
      "outputs": [],
      "source": [
        "from pyspark.sql import Row\n",
        "from pyspark.ml.linalg import Vectors"
      ]
    },
    {
      "cell_type": "code",
      "execution_count": 13,
      "id": "d916d951",
      "metadata": {
        "id": "d916d951"
      },
      "outputs": [],
      "source": [
        "# convert the data to dense vector\n",
        "#def transData(row):\n",
        "#    return Row(label=row[\"Sales\"],\n",
        "#               features=Vectors.dense([row[\"TV\"],\n",
        "#                                       row[\"Radio\"],\n",
        "#                                       row[\"Newspaper\"]]))\n",
        "def transData(data):\n",
        "    return data.rdd.map(lambda r: [Vectors.dense(r[:-1]),r[-1]]).toDF(['features','label'])"
      ]
    },
    {
      "cell_type": "markdown",
      "id": "4aaf55b5",
      "metadata": {
        "id": "4aaf55b5"
      },
      "source": [
        "### 4. Transform the dataset to DataFrame"
      ]
    },
    {
      "cell_type": "code",
      "execution_count": 14,
      "id": "54d40a1f",
      "metadata": {
        "colab": {
          "base_uri": "https://localhost:8080/"
        },
        "id": "54d40a1f",
        "outputId": "e0217775-d862-4173-ef47-d473f33e2a8c"
      },
      "outputs": [
        {
          "output_type": "stream",
          "name": "stdout",
          "text": [
            "+-----------------+-----+\n",
            "|         features|label|\n",
            "+-----------------+-----+\n",
            "|[230.1,37.8,69.2]| 22.1|\n",
            "| [44.5,39.3,45.1]| 10.4|\n",
            "| [17.2,45.9,69.3]|  9.3|\n",
            "|[151.5,41.3,58.5]| 18.5|\n",
            "|[180.8,10.8,58.4]| 12.9|\n",
            "|  [8.7,48.9,75.0]|  7.2|\n",
            "+-----------------+-----+\n",
            "only showing top 6 rows\n",
            "\n"
          ]
        }
      ],
      "source": [
        "#transformed = df.rdd.map(transData).toDF()\n",
        "data= transData(df)\n",
        "data.show(6)"
      ]
    },
    {
      "cell_type": "markdown",
      "id": "c12e0f2b",
      "metadata": {
        "id": "c12e0f2b"
      },
      "source": [
        "### 5. Convert features data format and set up training and test data sets"
      ]
    },
    {
      "cell_type": "code",
      "execution_count": 15,
      "id": "1402bf3a",
      "metadata": {
        "id": "1402bf3a"
      },
      "outputs": [],
      "source": [
        "from pyspark.ml import Pipeline\n",
        "from pyspark.ml.regression import LinearRegression\n",
        "from pyspark.ml.feature import VectorIndexer\n",
        "from pyspark.ml.evaluation import RegressionEvaluator\n",
        "featureIndexer = VectorIndexer(inputCol=\"features\", \\\n",
        "                               outputCol=\"indexedFeatures\",\\\n",
        "                               maxCategories=4).fit(data)\n",
        "\n",
        "# Split the data into training and test sets (40% held out for testing)\n",
        "(trainingData, testData) = data.randomSplit([0.6, 0.4], seed = 218)"
      ]
    },
    {
      "cell_type": "markdown",
      "id": "9bb407e8",
      "metadata": {
        "id": "9bb407e8"
      },
      "source": [
        "### 6. Fit linear regression model"
      ]
    },
    {
      "cell_type": "code",
      "execution_count": 16,
      "id": "77d7fc83",
      "metadata": {
        "id": "77d7fc83"
      },
      "outputs": [],
      "source": [
        "# Fit elastic net model\n",
        "lr = LinearRegression(maxIter=10, regParam=0.3, elasticNetParam=0.8)"
      ]
    },
    {
      "cell_type": "code",
      "execution_count": 17,
      "id": "2c544324",
      "metadata": {
        "id": "2c544324"
      },
      "outputs": [],
      "source": [
        "# Chain indexer and tree in a Pipeline\n",
        "pipeline = Pipeline(stages=[featureIndexer, lr])"
      ]
    },
    {
      "cell_type": "code",
      "execution_count": 18,
      "id": "07deddb3",
      "metadata": {
        "id": "07deddb3"
      },
      "outputs": [],
      "source": [
        "# Train model.  This also runs the indexer.\n",
        "model = pipeline.fit(trainingData)\n"
      ]
    },
    {
      "cell_type": "code",
      "execution_count": 19,
      "id": "fda2ef81",
      "metadata": {
        "id": "fda2ef81"
      },
      "outputs": [],
      "source": [
        " lrmodel= model.stages[1]"
      ]
    },
    {
      "cell_type": "code",
      "execution_count": 20,
      "id": "a9f2d3fe",
      "metadata": {
        "colab": {
          "base_uri": "https://localhost:8080/"
        },
        "id": "a9f2d3fe",
        "outputId": "322735c0-f0e3-4ea4-f8a1-4db8e4bc1b27"
      },
      "outputs": [
        {
          "output_type": "execute_result",
          "data": {
            "text/plain": [
              "DenseVector([0.0414, 0.1581, 0.0])"
            ]
          },
          "metadata": {},
          "execution_count": 20
        }
      ],
      "source": [
        "lrmodel.coefficients"
      ]
    },
    {
      "cell_type": "code",
      "execution_count": 21,
      "id": "fd4213fd",
      "metadata": {
        "colab": {
          "base_uri": "https://localhost:8080/"
        },
        "id": "fd4213fd",
        "outputId": "c2b37bc4-f9ed-45a0-b459-ad4aa5e5c13f"
      },
      "outputs": [
        {
          "output_type": "execute_result",
          "data": {
            "text/plain": [
              "1.3536052449934453"
            ]
          },
          "metadata": {},
          "execution_count": 21
        }
      ],
      "source": [
        "lrmodel.summary.meanAbsoluteError"
      ]
    },
    {
      "cell_type": "markdown",
      "id": "2b0cf10b",
      "metadata": {
        "id": "2b0cf10b"
      },
      "source": [
        "###  7. Make predictions"
      ]
    },
    {
      "cell_type": "code",
      "execution_count": 22,
      "id": "b438afad",
      "metadata": {
        "id": "b438afad"
      },
      "outputs": [],
      "source": [
        "predictions = model.transform(testData)"
      ]
    },
    {
      "cell_type": "code",
      "execution_count": 23,
      "id": "760c8ff7",
      "metadata": {
        "colab": {
          "base_uri": "https://localhost:8080/"
        },
        "id": "760c8ff7",
        "outputId": "e69242a4-7f2c-4dd7-ae73-64d0c6a91c29"
      },
      "outputs": [
        {
          "output_type": "stream",
          "name": "stdout",
          "text": [
            "+------------------+-----+----------------+\n",
            "|        prediction|label|        features|\n",
            "+------------------+-----+----------------+\n",
            "| 6.098217842293607|  3.2|  [4.1,11.6,5.7]|\n",
            "|   9.0453590533938|  5.3|  [5.4,29.9,9.4]|\n",
            "| 8.742649922605892|  5.7|  [8.4,27.2,2.1]|\n",
            "|4.7824788680237384|  4.8|   [8.6,2.1,1.0]|\n",
            "|10.412867268349295|  7.3|[11.7,36.9,45.2]|\n",
            "+------------------+-----+----------------+\n",
            "only showing top 5 rows\n",
            "\n"
          ]
        }
      ],
      "source": [
        "# Select example rows to display.\n",
        "predictions.select(\"prediction\", \"label\", \"features\").show(5)"
      ]
    },
    {
      "cell_type": "markdown",
      "id": "7fe269c9",
      "metadata": {
        "id": "7fe269c9"
      },
      "source": [
        "### 8. Evaluation"
      ]
    },
    {
      "cell_type": "code",
      "execution_count": 24,
      "id": "e0c17056",
      "metadata": {
        "colab": {
          "base_uri": "https://localhost:8080/"
        },
        "id": "e0c17056",
        "outputId": "e0d26242-f018-4544-ebf6-0adb95112d14"
      },
      "outputs": [
        {
          "output_type": "stream",
          "name": "stdout",
          "text": [
            "Root Mean Squared Error (RMSE) on test data = 1.72421\n"
          ]
        }
      ],
      "source": [
        "# Select (prediction, true label) and compute test error\n",
        "evaluator = RegressionEvaluator(\n",
        "    labelCol=\"label\", predictionCol=\"prediction\", metricName=\"rmse\")\n",
        "rmse = evaluator.evaluate(predictions)\n",
        "print(\"Root Mean Squared Error (RMSE) on test data = %g\" % rmse)"
      ]
    },
    {
      "cell_type": "code",
      "execution_count": 25,
      "id": "7f1a0312",
      "metadata": {
        "scrolled": true,
        "id": "7f1a0312"
      },
      "outputs": [],
      "source": [
        "y_true = predictions.select(\"label\").toPandas()\n",
        "y_pred = predictions.select(\"prediction\").toPandas()"
      ]
    },
    {
      "cell_type": "code",
      "execution_count": 26,
      "id": "e5bae61b",
      "metadata": {
        "scrolled": true,
        "colab": {
          "base_uri": "https://localhost:8080/"
        },
        "id": "e5bae61b",
        "outputId": "bfb8a234-7240-4b63-b617-22ef2d04a428"
      },
      "outputs": [
        {
          "output_type": "stream",
          "name": "stdout",
          "text": [
            "0.8989563084326142\n"
          ]
        }
      ],
      "source": [
        "import sklearn.metrics\n",
        "r2_score = sklearn.metrics.r2_score(y_true,y_pred)\n",
        "print(r2_score)"
      ]
    },
    {
      "cell_type": "markdown",
      "id": "5616682e",
      "metadata": {
        "id": "5616682e"
      },
      "source": [
        "### 9. Fit generalized linear regression model"
      ]
    },
    {
      "cell_type": "code",
      "execution_count": 27,
      "id": "51d4e0f6",
      "metadata": {
        "id": "51d4e0f6"
      },
      "outputs": [],
      "source": [
        "# Import LinearRegression Class\n",
        "from pyspark.ml.regression import GeneralizedLinearRegression\n",
        "\n",
        "# Define LinearRegression Model\n",
        "glr = GeneralizedLinearRegression(family=\"gaussian\", link=\"identity\",\\\n",
        "                                 maxIter = 10, regParam=0.3)"
      ]
    },
    {
      "cell_type": "code",
      "execution_count": 28,
      "id": "9a3fc2cc",
      "metadata": {
        "id": "9a3fc2cc"
      },
      "outputs": [],
      "source": [
        "# Create pipeline\n",
        "pipeline = Pipeline(stages=[featureIndexer,glr])\n",
        "model = pipeline.fit(trainingData)"
      ]
    },
    {
      "cell_type": "code",
      "execution_count": 29,
      "id": "2df156b9",
      "metadata": {
        "id": "2df156b9"
      },
      "outputs": [],
      "source": [
        "# Make predictions\n",
        "predictions = model.transform(testData)"
      ]
    },
    {
      "cell_type": "code",
      "execution_count": 30,
      "id": "67e00add",
      "metadata": {
        "scrolled": true,
        "colab": {
          "base_uri": "https://localhost:8080/"
        },
        "id": "67e00add",
        "outputId": "56b7fd1f-9108-4d70-96bd-54f250ac6293"
      },
      "outputs": [
        {
          "output_type": "stream",
          "name": "stdout",
          "text": [
            "+------------------+-----+----------------+\n",
            "|        prediction|label|        features|\n",
            "+------------------+-----+----------------+\n",
            "| 5.818378480845925|  3.2|  [4.1,11.6,5.7]|\n",
            "|  8.86945269880158|  5.3|  [5.4,29.9,9.4]|\n",
            "| 8.517309580526351|  5.7|  [8.4,27.2,2.1]|\n",
            "| 4.437492260704728|  4.8|   [8.6,2.1,1.0]|\n",
            "|10.466526621329647|  7.3|[11.7,36.9,45.2]|\n",
            "+------------------+-----+----------------+\n",
            "only showing top 5 rows\n",
            "\n"
          ]
        }
      ],
      "source": [
        "# Select example rows to display.\n",
        "predictions.select(\"prediction\", \"label\", \"features\").show(5)"
      ]
    },
    {
      "cell_type": "code",
      "execution_count": 31,
      "id": "0655e857",
      "metadata": {
        "colab": {
          "base_uri": "https://localhost:8080/"
        },
        "id": "0655e857",
        "outputId": "233452f3-7563-4ce6-ac8d-be62df5c6c9a"
      },
      "outputs": [
        {
          "output_type": "stream",
          "name": "stdout",
          "text": [
            "Root Mean Squared Error (RMSE) on test data = 1.66821\n"
          ]
        }
      ],
      "source": [
        "# Evaluation\n",
        "evaluator = RegressionEvaluator(\n",
        "    labelCol=\"label\", predictionCol=\"prediction\", metricName=\"rmse\")\n",
        "rmse = evaluator.evaluate(predictions)\n",
        "print(\"Root Mean Squared Error (RMSE) on test data = %g\" % rmse)"
      ]
    },
    {
      "cell_type": "code",
      "execution_count": 32,
      "id": "05fd4a8c",
      "metadata": {
        "id": "05fd4a8c"
      },
      "outputs": [],
      "source": [
        "spark.stop()"
      ]
    },
    {
      "cell_type": "code",
      "execution_count": null,
      "id": "1e79c817",
      "metadata": {
        "id": "1e79c817"
      },
      "outputs": [],
      "source": []
    }
  ],
  "metadata": {
    "kernelspec": {
      "display_name": "Python 3 (ipykernel)",
      "language": "python",
      "name": "python3"
    },
    "language_info": {
      "codemirror_mode": {
        "name": "ipython",
        "version": 3
      },
      "file_extension": ".py",
      "mimetype": "text/x-python",
      "name": "python",
      "nbconvert_exporter": "python",
      "pygments_lexer": "ipython3",
      "version": "3.9.17"
    },
    "colab": {
      "provenance": []
    }
  },
  "nbformat": 4,
  "nbformat_minor": 5
}