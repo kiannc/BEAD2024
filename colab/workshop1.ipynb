{
  "nbformat": 4,
  "nbformat_minor": 0,
  "metadata": {
    "colab": {
      "provenance": [],
      "include_colab_link": true
    },
    "kernelspec": {
      "name": "python3",
      "display_name": "Python 3"
    },
    "language_info": {
      "name": "python"
    }
  },
  "cells": [
    {
      "cell_type": "markdown",
      "metadata": {
        "id": "view-in-github",
        "colab_type": "text"
      },
      "source": [
        "<a href=\"https://colab.research.google.com/github/kiannc/BEAD2024/blob/main/colab/workshop1.ipynb\" target=\"_parent\"><img src=\"https://colab.research.google.com/assets/colab-badge.svg\" alt=\"Open In Colab\"/></a>"
      ]
    },
    {
      "cell_type": "markdown",
      "source": [
        "# Workshop 1 - Chua Kian Ann\n",
        "\n",
        "\n"
      ],
      "metadata": {
        "id": "jaVSpe-PbxkO"
      }
    },
    {
      "cell_type": "code",
      "source": [
        "# install pyspark using pip\n",
        "!pip install --ignore-install -q pyspark\n",
        "# install findspark using pip\n",
        "!pip install --ignore-install -q findspark\n",
        "\n",
        "from pyspark.sql import *\n",
        "from pyspark.sql.functions import *\n",
        "from pyspark.sql.types import *\n",
        "from pyspark.sql.functions import col\n",
        "from pyspark.sql import SparkSession\n",
        "\n",
        "# to read in data from a text file, first upload the data file into your google drive and then mount your google drive onto colab\n",
        "from google.colab import drive\n",
        "# to attempt to forcibly remount, call drive.mount(\"/content/drive\", force_remount=True)\n",
        "drive.mount('/content/drive', force_remount=True)"
      ],
      "metadata": {
        "id": "RPooOgDh1XUo"
      },
      "execution_count": null,
      "outputs": []
    },
    {
      "cell_type": "code",
      "source": [
        "driversPath = \"/content/drive/MyDrive/data/BEAD_Rebu_Drivers.csv\"\n",
        "taxiCabsPath = \"/content/drive/MyDrive/data/BEAD_Rebu_TaxiCabs.json\"\n",
        "passengersPath = \"/content/drive/MyDrive/data/BEAD_Rebu_Passengers.csv\"\n",
        "tripDataPath = \"/content/drive/MyDrive/data/BEAD_Rebu_TripData.csv\"\n",
        "\n",
        "# the above file is under your pythonProject folder\n",
        "spark = SparkSession.builder.appName(\"SimpleApp\").getOrCreate()\n",
        "\n",
        "dfDrivers = spark.read.option(\"header\", \"true\").option(\"inferSchema\", \"true\").csv(driversPath)\n",
        "dfTaxiCabs = spark.read .option(\"header\", \"true\").option(\"inferSchema\", \"true\") .option(\"multiLine\", \"true\").json(taxiCabsPath)\n",
        "dfPassengers = spark.read.option(\"header\", \"true\").option(\"inferSchema\", \"true\").csv(passengersPath)\n",
        "dfTripData = spark.read.option(\"header\", \"true\").option(\"inferSchema\", \"true\").csv(tripDataPath)\n"
      ],
      "metadata": {
        "id": "7cdc0oJjb8N5"
      },
      "execution_count": 55,
      "outputs": []
    },
    {
      "cell_type": "code",
      "source": [
        "# 1. Retrieve all Driver data (use Drivers.CSV)\n",
        "dfDrivers.show()"
      ],
      "metadata": {
        "id": "dSdp_n8Mz66x"
      },
      "execution_count": null,
      "outputs": []
    },
    {
      "cell_type": "code",
      "source": [
        "# 2. Retrieve all Taxis and display the data in ascending order of Taxi License Plate number.\n",
        "\n",
        "dfTaxiCabs.orderBy(asc(\"TaxiNumber\")).show()\n"
      ],
      "metadata": {
        "id": "IvdxBvgWs4nf"
      },
      "execution_count": null,
      "outputs": []
    },
    {
      "cell_type": "code",
      "source": [
        "# 3. Retrieve all Limousine Taxies.\n",
        "# You should display only the Taxi Number, Taxi Type, and Taxi Colour.\n",
        "( dfTaxiCabs.select(\"TaxiNumber\", \"TaxiType\", \"TaxiColor\")\n",
        "            .where(col(\"TaxiType\") == \"Limosine\")\n",
        "            .show() )"
      ],
      "metadata": {
        "id": "omb_NdwXwNm9"
      },
      "execution_count": null,
      "outputs": []
    },
    {
      "cell_type": "code",
      "source": [
        "# 4. Retrieve all 4 seater Premier taxis.\n",
        "\n",
        "( dfTaxiCabs.where((col(\"TaxiPassengerCapacity\") == 4) & (col(\"TaxiType\") == \"Premier\"))\n",
        "            .show() )"
      ],
      "metadata": {
        "id": "Io9aEvHIzJDS"
      },
      "execution_count": null,
      "outputs": []
    },
    {
      "cell_type": "code",
      "source": [
        "# 5. Determine the average distance per trip based on ALL trips in the month of January 2024.\n",
        "dfTripData.agg(avg(\"Distance Travelled\")).first()[0]"
      ],
      "metadata": {
        "id": "8TmJXtEv0_4n"
      },
      "execution_count": null,
      "outputs": []
    },
    {
      "cell_type": "code",
      "source": [
        "# 6. Find the total fares collected grouped by Taxi Type Maxi Cab\n",
        "\n",
        "# dfTripData.show()\n",
        "dfTripData.groupBy(\"Taxi Type\").sum(\"Trip Fare\").where(col(\"Taxi Type\") == \"Maxi Cab\").show()"
      ],
      "metadata": {
        "id": "3ABBKMaP2F3x"
      },
      "execution_count": null,
      "outputs": []
    },
    {
      "cell_type": "code",
      "source": [
        "# 7. Determine the Average Occupancy i.e., (Number of Passengers / Passenger Capacity) for Standard Taxis\n",
        "# dfTripData.show()\n",
        "dfStandardTaxis = dfTripData.where(col(\"Taxi Type\") == \"Standard\")\n",
        "dfStandardTaxis.agg(avg(\"Number Of Passengers\")).first()[0]"
      ],
      "metadata": {
        "id": "4RWg4Ov53Gj-"
      },
      "execution_count": null,
      "outputs": []
    },
    {
      "cell_type": "code",
      "source": [
        "# 8. Determine Fares Collected by Day of the Week (ie., Sun, Mon, Tue) for the month of Jan 2024\n",
        "# dfTripData.show()\n",
        "\n",
        "dfTripData.where(col(\"Date\").like(\"%Jan%\")).groupBy(\"Day\").sum(\"Trip Fare\").show()"
      ],
      "metadata": {
        "id": "yjmRi2TZ7Onz"
      },
      "execution_count": null,
      "outputs": []
    },
    {
      "cell_type": "code",
      "source": [
        "# 9. Prepare a Tabulation report showing total revenue against\n",
        "# the two dimensions Hour of the day AND Day of the Week.\n",
        "\n",
        "dfTripData.rollup(\"Hour Of Day\", \"Day\").sum(\"Trip Fare\").orderBy(\"Hour Of Day\", \"Day\").show()"
      ],
      "metadata": {
        "id": "zMRtdmPcDEbk"
      },
      "execution_count": null,
      "outputs": []
    },
    {
      "cell_type": "code",
      "source": [
        "# 10. Compare the total number of trips per day made by all taxis in weekends vs the total number\n",
        "# of trips made per day during weekdays in the month of Jan 2024\n",
        "# dfTripData.show()\n",
        "dfTripData.cube(\"Hour Of Day\", \"Day\").sum(\"Distance Travelled\").orderBy(\"Hour Of Day\", \"Day\").show()"
      ],
      "metadata": {
        "id": "3Sx5OyMjFCVT"
      },
      "execution_count": null,
      "outputs": []
    },
    {
      "cell_type": "code",
      "source": [
        "# 10. Determine the total fares paid by all Gold Status Passengers in the month of Jan 2024.\n",
        "# What percentage does this make from the total fares for all customers in month of Jan 2024.\n",
        "\n",
        "# dfPassengers.show()\n",
        "# dfTripData.show()\n",
        "dfPassengersNewHdr = dfPassengers.select(col(\"PassengerID\").alias(\"Passenger ID\"), col(\"MemSilvererStGoldtus\") )\n",
        "\n",
        "combineDf = dfTripData.join(dfPassengersNewHdr, \"Passenger ID\")\n",
        "\n",
        "totalFares = combineDf.agg(sum(\"Trip Fare\"))\n",
        "totalFaresGold = combineDf.filter(col(\"MemSilvererStGoldtus\") == \"Gold\").agg(sum(\"Trip Fare\"))\n",
        "\n",
        "results = (totalFaresGold.collect()[0][0] / totalFares.collect()[0][0]) * 100\n",
        "print(f\"Results: {results}%\")"
      ],
      "metadata": {
        "colab": {
          "base_uri": "https://localhost:8080/"
        },
        "id": "XqcUhHiiL6QJ",
        "outputId": "76b8d955-ee17-4434-c359-76aacbbf232c"
      },
      "execution_count": 163,
      "outputs": [
        {
          "output_type": "stream",
          "name": "stdout",
          "text": [
            "Results: 27.73539443102574%\n"
          ]
        }
      ]
    }
  ]
}