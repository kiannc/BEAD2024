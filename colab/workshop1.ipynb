{
  "cells": [
    {
      "cell_type": "markdown",
      "metadata": {
        "colab_type": "text",
        "id": "view-in-github"
      },
      "source": [
        "<a href=\"https://colab.research.google.com/github/kiannc/BEAD2024/blob/main/colab/workshop1.ipynb\" target=\"_parent\"><img src=\"https://colab.research.google.com/assets/colab-badge.svg\" alt=\"Open In Colab\"/></a>"
      ]
    },
    {
      "cell_type": "markdown",
      "metadata": {
        "id": "jaVSpe-PbxkO"
      },
      "source": [
        "# Workshop 1 - Chua Kian Ann\n",
        "\n",
        "\n"
      ]
    },
    {
      "cell_type": "code",
      "execution_count": null,
      "metadata": {
        "id": "RPooOgDh1XUo"
      },
      "outputs": [],
      "source": [
        "# install pyspark using pip\n",
        "!pip install --ignore-install -q pyspark\n",
        "# install findspark using pip\n",
        "!pip install --ignore-install -q findspark\n",
        "\n",
        "from pyspark.sql import *\n",
        "from pyspark.sql.functions import *\n",
        "from pyspark.sql.types import *\n",
        "from pyspark.sql.functions import col\n",
        "from pyspark.sql import SparkSession\n",
        "\n",
        "# to read in data from a text file, first upload the data file into your google drive and then mount your google drive onto colab\n",
        "from google.colab import drive\n",
        "# to attempt to forcibly remount, call drive.mount(\"/content/drive\", force_remount=True)\n",
        "drive.mount('/content/drive', force_remount=True)"
      ]
    },
    {
      "cell_type": "code",
      "execution_count": 55,
      "metadata": {
        "id": "7cdc0oJjb8N5"
      },
      "outputs": [],
      "source": [
        "driversPath = \"/content/drive/MyDrive/data/BEAD_Rebu_Drivers.csv\"\n",
        "taxiCabsPath = \"/content/drive/MyDrive/data/BEAD_Rebu_TaxiCabs.json\"\n",
        "passengersPath = \"/content/drive/MyDrive/data/BEAD_Rebu_Passengers.csv\"\n",
        "tripDataPath = \"/content/drive/MyDrive/data/BEAD_Rebu_TripData.csv\"\n",
        "\n",
        "# the above file is under your pythonProject folder\n",
        "spark = SparkSession.builder.appName(\"SimpleApp\").getOrCreate()\n",
        "\n",
        "dfDrivers = spark.read.option(\"header\", \"true\").option(\"inferSchema\", \"true\").csv(driversPath)\n",
        "dfTaxiCabs = spark.read .option(\"header\", \"true\").option(\"inferSchema\", \"true\") .option(\"multiLine\", \"true\").json(taxiCabsPath)\n",
        "dfPassengers = spark.read.option(\"header\", \"true\").option(\"inferSchema\", \"true\").csv(passengersPath)\n",
        "dfTripData = spark.read.option(\"header\", \"true\").option(\"inferSchema\", \"true\").csv(tripDataPath)\n"
      ]
    },
    {
      "cell_type": "code",
      "execution_count": null,
      "metadata": {
        "id": "dSdp_n8Mz66x"
      },
      "outputs": [],
      "source": [
        "# 1. Retrieve all Driver data (use Drivers.CSV)\n",
        "dfDrivers.show()"
      ]
    },
    {
      "cell_type": "code",
      "execution_count": null,
      "metadata": {
        "id": "IvdxBvgWs4nf"
      },
      "outputs": [],
      "source": [
        "# 2. Retrieve all Taxis and display the data in ascending order of Taxi License Plate number.\n",
        "\n",
        "dfTaxiCabs.orderBy(asc(\"TaxiNumber\")).show()\n"
      ]
    },
    {
      "cell_type": "code",
      "execution_count": null,
      "metadata": {
        "id": "omb_NdwXwNm9"
      },
      "outputs": [],
      "source": [
        "# 3. Retrieve all Limousine Taxies.\n",
        "# You should display only the Taxi Number, Taxi Type, and Taxi Colour.\n",
        "( dfTaxiCabs.select(\"TaxiNumber\", \"TaxiType\", \"TaxiColor\")\n",
        "            .where(col(\"TaxiType\") == \"Limosine\")\n",
        "            .show() )"
      ]
    },
    {
      "cell_type": "code",
      "execution_count": null,
      "metadata": {
        "id": "Io9aEvHIzJDS"
      },
      "outputs": [],
      "source": [
        "# 4. Retrieve all 4 seater Premier taxis.\n",
        "\n",
        "( dfTaxiCabs.where((col(\"TaxiPassengerCapacity\") == 4) & (col(\"TaxiType\") == \"Premier\"))\n",
        "            .show() )"
      ]
    },
    {
      "cell_type": "code",
      "execution_count": null,
      "metadata": {
        "id": "8TmJXtEv0_4n"
      },
      "outputs": [],
      "source": [
        "# 5. Determine the average distance per trip based on ALL trips in the month of January 2024.\n",
        "dfTripData.agg(avg(\"Distance Travelled\")).first()[0]"
      ]
    },
    {
      "cell_type": "code",
      "execution_count": null,
      "metadata": {
        "id": "3ABBKMaP2F3x"
      },
      "outputs": [],
      "source": [
        "# 6. Find the total fares collected grouped by Taxi Type Maxi Cab\n",
        "\n",
        "# dfTripData.show()\n",
        "dfTripData.groupBy(\"Taxi Type\").sum(\"Trip Fare\").where(col(\"Taxi Type\") == \"Maxi Cab\").show()"
      ]
    },
    {
      "cell_type": "code",
      "execution_count": null,
      "metadata": {
        "id": "4RWg4Ov53Gj-"
      },
      "outputs": [],
      "source": [
        "# 7. Determine the Average Occupancy i.e., (Number of Passengers / Passenger Capacity) for Standard Taxis\n",
        "# dfTripData.show()\n",
        "dfStandardTaxis = dfTripData.where(col(\"Taxi Type\") == \"Standard\")\n",
        "dfStandardTaxis.agg(avg(\"Number Of Passengers\")).first()[0]"
      ]
    },
    {
      "cell_type": "code",
      "execution_count": null,
      "metadata": {
        "id": "yjmRi2TZ7Onz"
      },
      "outputs": [],
      "source": [
        "# 8. Determine Fares Collected by Day of the Week (ie., Sun, Mon, Tue) for the month of Jan 2024\n",
        "# dfTripData.show()\n",
        "\n",
        "dfTripData.where(col(\"Date\").like(\"%Jan%\")).groupBy(\"Day\").sum(\"Trip Fare\").show()"
      ]
    },
    {
      "cell_type": "code",
      "execution_count": null,
      "metadata": {
        "id": "zMRtdmPcDEbk"
      },
      "outputs": [],
      "source": [
        "# 9. Prepare a Tabulation report showing total revenue against\n",
        "# the two dimensions Hour of the day AND Day of the Week.\n",
        "\n",
        "dfTripData.rollup(\"Hour Of Day\", \"Day\").sum(\"Trip Fare\").orderBy(\"Hour Of Day\", \"Day\").show()"
      ]
    },
    {
      "cell_type": "code",
      "execution_count": null,
      "metadata": {
        "id": "3Sx5OyMjFCVT"
      },
      "outputs": [],
      "source": [
        "# 10. Compare the total number of trips per day made by all taxis in weekends vs the total number\n",
        "# of trips made per day during weekdays in the month of Jan 2024\n",
        "# dfTripData.show()\n",
        "# dfTripData.cube(\"Hour Of Day\", \"Day\").sum(\"Distance Travelled\").orderBy(\"Hour Of Day\", \"Day\").show()\n",
        "\n",
        "dfTripDataWeekDays = dfTripData.where(((col(\"Day\") != \"Sun\") & (col(\"Day\") != \"Sat\") ) & col(\"Date\").like(\"%Jan%\"))\n",
        "dfTripDataWeekEnds = dfTripData.where(((col(\"Day\") == \"Sun\") | (col(\"Day\") == \"Sat\")) & col(\"Date\").like(\"%Jan%\"))\n",
        "\n",
        "dfTripDataDistanceTravelled = spark.createDataFrame(\n",
        "    [\n",
        "        (\"Weekends\", dfTripDataWeekDays.agg(sum(\"Distance Travelled\")).first()[0]),\n",
        "        (\"Weekdays\", dfTripDataWeekEnds.agg(sum(\"Distance Travelled\")).first()[0]),\n",
        "    ],\n",
        "    [\"Days\", \"Distances Travelled\"]  # add your column names here\n",
        ")\n",
        "\n",
        "dfTripDataDistanceTravelled.show()"
      ]
    },
    {
      "cell_type": "code",
      "execution_count": 163,
      "metadata": {
        "colab": {
          "base_uri": "https://localhost:8080/"
        },
        "id": "XqcUhHiiL6QJ",
        "outputId": "76b8d955-ee17-4434-c359-76aacbbf232c"
      },
      "outputs": [
        {
          "name": "stdout",
          "output_type": "stream",
          "text": [
            "Results: 27.73539443102574%\n"
          ]
        }
      ],
      "source": [
        "# 10. Determine the total fares paid by all Gold Status Passengers in the month of Jan 2024.\n",
        "# What percentage does this make from the total fares for all customers in month of Jan 2024.\n",
        "\n",
        "# dfPassengers.show()\n",
        "# dfTripData.show()\n",
        "dfPassengersNewHdr = dfPassengers.select(col(\"PassengerID\").alias(\"Passenger ID\"), col(\"MemSilvererStGoldtus\") )\n",
        "\n",
        "combineDf = dfTripData.join(dfPassengersNewHdr, \"Passenger ID\")\n",
        "\n",
        "totalFares = combineDf.agg(sum(\"Trip Fare\"))\n",
        "totalFaresGold = combineDf.filter(col(\"MemSilvererStGoldtus\") == \"Gold\").agg(sum(\"Trip Fare\"))\n",
        "\n",
        "results = (totalFaresGold.collect()[0][0] / totalFares.collect()[0][0]) * 100\n",
        "print(f\"Results: {results}%\")"
      ]
    }
  ],
  "metadata": {
    "colab": {
      "include_colab_link": true,
      "provenance": []
    },
    "kernelspec": {
      "display_name": "Python 3",
      "name": "python3"
    },
    "language_info": {
      "name": "python"
    }
  },
  "nbformat": 4,
  "nbformat_minor": 0
}
